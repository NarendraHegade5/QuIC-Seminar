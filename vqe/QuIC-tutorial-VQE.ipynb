{
 "cells": [
  {
   "cell_type": "markdown",
   "metadata": {},
   "source": [
    "# QuIC Seminar: Variational Quantum Eigensolver"
   ]
  },
  {
   "cell_type": "markdown",
   "metadata": {},
   "source": [
    "This notebook implements the VQE algorithm for H2, as described in the paper [1]."
   ]
  },
  {
   "cell_type": "markdown",
   "metadata": {},
   "source": [
    "<img src=\"http://www.theplanteater.com/wp-content/uploads/2018/02/HydrogenMolecule.png\" alt=\"H2\" style=\"width:300px;height:300px;\">"
   ]
  },
  {
   "cell_type": "code",
   "execution_count": 1,
   "metadata": {},
   "outputs": [
    {
     "data": {
      "text/plain": [
       "'Install pyQuil, if necessary.'"
      ]
     },
     "execution_count": 1,
     "metadata": {},
     "output_type": "execute_result"
    }
   ],
   "source": [
    "\"\"\"Install pyQuil, if necessary.\"\"\"\n",
    "#!pip install pyquil"
   ]
  },
  {
   "cell_type": "code",
   "execution_count": 2,
   "metadata": {},
   "outputs": [],
   "source": [
    "\"\"\"Imports for the notebook.\"\"\"\n",
    "from numpy import array, pi\n",
    "from numpy.random import random\n",
    "from scipy.optimize import minimize\n",
    "import matplotlib.pyplot as plt\n",
    "\n",
    "from pyquil import Program, get_qc\n",
    "from pyquil.gates import RX, RZ, RY, CNOT, I, MEASURE"
   ]
  },
  {
   "cell_type": "code",
   "execution_count": 3,
   "metadata": {},
   "outputs": [],
   "source": [
    "\"\"\"Suppress all warnings (not recommended!) for not declaring classical registers.\"\"\"\n",
    "import warnings\n",
    "warnings.filterwarnings(\"ignore\")"
   ]
  },
  {
   "cell_type": "markdown",
   "metadata": {},
   "source": [
    "# The Hamiltonian for $H_2$"
   ]
  },
  {
   "cell_type": "markdown",
   "metadata": {},
   "source": [
    "The Hamiltonian for $H_2$ can be written [1]\n",
    "\n",
    "\\begin{equation}\n",
    "    H = g_0 I + g_1 Z_0 + g_2 Z_1 + g_3 Z_0 Z_1 + g_4 X_0 X_1 + g_5 Y_0 Y_1\n",
    "\\end{equation}\n",
    "\n",
    "where $g_i$ are numerical values that depend on the bond length $R$ between Hydrogren molecules. This writing of the Hamiltonian:\n",
    "\n",
    "1. Uses the minimal [STO-6G basis](https://en.wikipedia.org/wiki/STO-nG_basis_sets),\n",
    "1. Uses the Bravyi-Kitaev transform, and\n",
    "1. Reduces resources (qubit number) by symmetry considerations (see paper).\n",
    "\n",
    "Each coefficient $g_i$ is specified below, where the first column is the bond length $R$."
   ]
  },
  {
   "cell_type": "code",
   "execution_count": 4,
   "metadata": {},
   "outputs": [],
   "source": [
    "\"\"\"The organization of the numeric values in the table below is\n",
    "\n",
    "RADIUS  | g0    | g1    | g2    | g3    | g4    | g5\n",
    "\n",
    "where it is understood each g is a function of the RADIUS R.\n",
    "\n",
    "Source: Table 1 of Appendix C of [1].\n",
    "\"\"\"\n",
    "\n",
    "table = array([\n",
    "        [0.2000, 2.8489, 0.5678, -1.4508, 0.6799, 0.07910, 0.07910],\n",
    "        [0.2500, 2.1868, 0.5449, -1.2870, 0.6719, 0.07980, 0.07980],\n",
    "        [0.3000, 1.7252, 0.5215, -1.1458, 0.6631, 0.08060, 0.08060],\n",
    "        [0.3500, 1.3827, 0.4982, -1.0226, 0.6537, 0.08150, 0.08150],\n",
    "        [0.4000, 1.1182, 0.4754, -0.9145, 0.6438, 0.08250, 0.08250],\n",
    "        [0.4500, 0.9083, 0.4534, -0.8194, 0.6336, 0.08350, 0.08350],\n",
    "        [0.5000, 0.7381, 0.4325, -0.7355, 0.6233, 0.08460, 0.08460],\n",
    "        [0.5500, 0.5979, 0.4125, -0.6612, 0.6129, 0.08580, 0.08580],\n",
    "        [0.6000, 0.4808, 0.3937, -0.5950, 0.6025, 0.08700, 0.08700],\n",
    "        [0.6500, 0.3819, 0.3760, -0.5358, 0.5921, 0.08830, 0.08830],\n",
    "        [0.7000, 0.2976, 0.3593, -0.4826, 0.5818, 0.08960, 0.08960],\n",
    "        [0.7500, 0.2252, 0.3435, -0.4347, 0.5716, 0.09100, 0.09100],\n",
    "        [0.8000, 0.1626, 0.3288, -0.3915, 0.5616, 0.09250, 0.09250],\n",
    "        [0.8500, 0.1083, 0.3149, -0.3523, 0.5518, 0.09390, 0.09390],\n",
    "        [0.9000, 0.06090, 0.3018, -0.3168, 0.5421, 0.09540, 0.09540],\n",
    "        [0.9500, 0.01930, 0.2895, -0.2845, 0.5327, 0.09700, 0.09700],\n",
    "        [1.000, -0.01720, 0.2779, -0.2550, 0.5235, 0.09860, 0.09860],\n",
    "        [1.050, -0.04930, 0.2669, -0.2282, 0.5146, 0.1002, 0.1002],\n",
    "        [1.100, -0.07780, 0.2565, -0.2036, 0.5059, 0.1018, 0.1018],\n",
    "        [1.150, -0.1029, 0.2467, -0.1810, 0.4974, 0.1034, 0.1034],\n",
    "        [1.200, -0.1253, 0.2374, -0.1603, 0.4892, 0.1050, 0.1050],\n",
    "        [1.250, -0.1452, 0.2286, -0.1413, 0.4812, 0.1067, 0.1067],\n",
    "        [1.300, -0.1629, 0.2203, -0.1238, 0.4735, 0.1083, 0.1083],\n",
    "        [1.350, -0.1786, 0.2123, -0.1077, 0.4660, 0.1100, 0.1100],\n",
    "        [1.400, -0.1927, 0.2048, -0.09290, 0.4588, 0.1116, 0.1116],\n",
    "        [1.450, -0.2053, 0.1976, -0.07920, 0.4518, 0.1133, 0.1133],\n",
    "        [1.500, -0.2165, 0.1908, -0.06660, 0.4451, 0.1149, 0.1149],\n",
    "        [1.550, -0.2265, 0.1843, -0.05490, 0.4386, 0.1165, 0.1165],\n",
    "        [1.600, -0.2355, 0.1782, -0.04420, 0.4323, 0.1181, 0.1181],\n",
    "        [1.650, -0.2436, 0.1723, -0.03420, 0.4262, 0.1196, 0.1196],\n",
    "        [1.700, -0.2508, 0.1667, -0.02510, 0.4204, 0.1211, 0.1211],\n",
    "        [1.750, -0.2573, 0.1615, -0.01660, 0.4148, 0.1226, 0.1226],\n",
    "        [1.800, -0.2632, 0.1565, -0.00880, 0.4094, 0.1241, 0.1241],\n",
    "        [1.850, -0.2684, 0.1517, -0.00150, 0.4042, 0.1256, 0.1256],\n",
    "        [1.900, -0.2731, 0.1472, 0.005200, 0.3992, 0.1270, 0.1270],\n",
    "        [1.950, -0.2774, 0.1430, 0.01140, 0.3944, 0.1284, 0.1284],\n",
    "        [2.000, -0.2812, 0.1390, 0.01710, 0.3898, 0.1297, 0.1297],\n",
    "        [2.050, -0.2847, 0.1352, 0.02230, 0.3853, 0.1310, 0.1310],\n",
    "        [2.100, -0.2879, 0.1316, 0.02720, 0.3811, 0.1323, 0.1323],\n",
    "        [2.150, -0.2908, 0.1282, 0.03170, 0.3769, 0.1335, 0.1335],\n",
    "        [2.200, -0.2934, 0.1251, 0.03590, 0.3730, 0.1347, 0.1347],\n",
    "        [2.250, -0.2958, 0.1221, 0.03970, 0.3692, 0.1359, 0.1359],\n",
    "        [2.300, -0.2980, 0.1193, 0.04320, 0.3655, 0.1370, 0.1370],\n",
    "        [2.350, -0.3000, 0.1167, 0.04650, 0.3620, 0.1381, 0.1381],\n",
    "        [2.400, -0.3018, 0.1142, 0.04950, 0.3586, 0.1392, 0.1392],\n",
    "        [2.450, -0.3035, 0.1119, 0.05230, 0.3553, 0.1402, 0.1402],\n",
    "        [2.500, -0.3051, 0.1098, 0.05490, 0.3521, 0.1412, 0.1412],\n",
    "        [2.550, -0.3066, 0.1078, 0.05720, 0.3491, 0.1422, 0.1422],\n",
    "        [2.600, -0.3079, 0.1059, 0.05940, 0.3461, 0.1432, 0.1432],\n",
    "        [2.650, -0.3092, 0.1042, 0.06140, 0.3433, 0.1441, 0.1441],\n",
    "        [2.700, -0.3104, 0.1026, 0.06320, 0.3406, 0.1450, 0.1450],\n",
    "        [2.750, -0.3115, 0.1011, 0.06490, 0.3379, 0.1458, 0.1458],\n",
    "        [2.800, -0.3125, 0.09970, 0.06650, 0.3354, 0.1467, 0.1467],\n",
    "        [2.850, -0.3135, 0.09840, 0.06790, 0.3329, 0.1475, 0.1475]\n",
    "])"
   ]
  },
  {
   "cell_type": "markdown",
   "metadata": {},
   "source": [
    "To speed up the process, we'll reduce the number of bond lengths we consider."
   ]
  },
  {
   "cell_type": "code",
   "execution_count": 5,
   "metadata": {},
   "outputs": [
    {
     "name": "stdout",
     "output_type": "stream",
     "text": [
      "Bond lengths (Angstroms):\n",
      "0.2\n",
      "0.3\n",
      "0.4\n",
      "0.5\n",
      "0.6\n",
      "0.7\n",
      "0.8\n",
      "0.9\n",
      "1.0\n",
      "1.1\n",
      "1.2\n",
      "1.3\n",
      "1.4\n",
      "1.5\n",
      "1.6\n",
      "1.7\n",
      "1.8\n",
      "1.9\n",
      "2.0\n",
      "2.1\n",
      "2.2\n",
      "2.3\n",
      "2.4\n",
      "2.5\n",
      "2.6\n",
      "Coefficients (Hartree):\n",
      "[ 2.8489  0.5678 -1.4508  0.6799  0.0791  0.0791]\n",
      "[ 1.7252  0.5215 -1.1458  0.6631  0.0806  0.0806]\n",
      "[ 1.1182  0.4754 -0.9145  0.6438  0.0825  0.0825]\n",
      "[ 0.7381  0.4325 -0.7355  0.6233  0.0846  0.0846]\n",
      "[ 0.4808  0.3937 -0.595   0.6025  0.087   0.087 ]\n",
      "[ 0.2976  0.3593 -0.4826  0.5818  0.0896  0.0896]\n",
      "[ 0.1626  0.3288 -0.3915  0.5616  0.0925  0.0925]\n",
      "[ 0.0609  0.3018 -0.3168  0.5421  0.0954  0.0954]\n",
      "[-0.0172  0.2779 -0.255   0.5235  0.0986  0.0986]\n",
      "[-0.0778  0.2565 -0.2036  0.5059  0.1018  0.1018]\n",
      "[-0.1253  0.2374 -0.1603  0.4892  0.105   0.105 ]\n",
      "[-0.1629  0.2203 -0.1238  0.4735  0.1083  0.1083]\n",
      "[-0.1927  0.2048 -0.0929  0.4588  0.1116  0.1116]\n",
      "[-0.2165  0.1908 -0.0666  0.4451  0.1149  0.1149]\n",
      "[-0.2355  0.1782 -0.0442  0.4323  0.1181  0.1181]\n",
      "[-0.2508  0.1667 -0.0251  0.4204  0.1211  0.1211]\n",
      "[-0.2632  0.1565 -0.0088  0.4094  0.1241  0.1241]\n",
      "[-0.2731  0.1472  0.0052  0.3992  0.127   0.127 ]\n",
      "[-0.2812  0.139   0.0171  0.3898  0.1297  0.1297]\n",
      "[-0.2879  0.1316  0.0272  0.3811  0.1323  0.1323]\n",
      "[-0.2934  0.1251  0.0359  0.373   0.1347  0.1347]\n",
      "[-0.298   0.1193  0.0432  0.3655  0.137   0.137 ]\n",
      "[-0.3018  0.1142  0.0495  0.3586  0.1392  0.1392]\n",
      "[-0.3051  0.1098  0.0549  0.3521  0.1412  0.1412]\n",
      "[-0.3079  0.1059  0.0594  0.3461  0.1432  0.1432]\n"
     ]
    }
   ],
   "source": [
    "\"\"\"Reduce the number of bond lengths considered.\"\"\"\n",
    "# only consider the first N bond lengths, and increase the spacing\n",
    "N = 50\n",
    "step = 2\n",
    "\n",
    "# grab the reduced coeffs and bond lengths\n",
    "table = table[0:N:step]\n",
    "radii = table[:, 0]\n",
    "coeffs = table[:, 1:]\n",
    "\n",
    "# show the reduced set of coefficients at each bond length\n",
    "print(\"Bond lengths (Angstroms):\")\n",
    "print(*radii, sep=\"\\n\")\n",
    "\n",
    "print(\"Coefficients (Hartree):\")\n",
    "print(*coeffs, sep=\"\\n\")"
   ]
  },
  {
   "cell_type": "markdown",
   "metadata": {},
   "source": [
    "# Constructing the Circuit"
   ]
  },
  {
   "cell_type": "markdown",
   "metadata": {},
   "source": [
    "The circuit implemented is shown in Figure 1 of [1]. \n",
    "\n",
    "Depending on which term of the Hamiltonian we're computing the expectation value of, we need to implement an appropriate set of gates to rotate to the eigenbasis. The appropriate set of gates, keeping the ordering of terms in the Hamiltonian above, is defined below."
   ]
  },
  {
   "cell_type": "code",
   "execution_count": 6,
   "metadata": {},
   "outputs": [],
   "source": [
    "\"\"\"Defining rotation operators in a dictionary. \n",
    "\n",
    "key = which term of Hamiltonian, value = which rotation to implement.\n",
    "\"\"\"\n",
    "\n",
    "rotations = {1: Program(I(0), MEASURE(0, 0)),\n",
    "             2: Program(I(1), MEASURE(1, 0)),\n",
    "             3: Program(I(0), I(1), MEASURE(0, 0), MEASURE(1, 1)),\n",
    "             4: Program(RY(-pi / 2, 0), RY(-pi / 2, 1), MEASURE(0, 0), MEASURE(1, 1)),\n",
    "             5: Program(RX(pi / 2, 0), RX(pi / 2, 1), MEASURE(0, 0), MEASURE(1, 1))}"
   ]
  },
  {
   "cell_type": "code",
   "execution_count": 7,
   "metadata": {},
   "outputs": [],
   "source": [
    "def circuit(k, theta):\n",
    "    \"\"\"Returns the program for computing the expectation value\n",
    "    \n",
    "    <H_k> = <\\psi(\\theta)| H_k |\\psi(theta)>\n",
    "    \n",
    "    where H_k is the k'th term in the Hamiltonian H\n",
    "    and theta is the variational parameter.\n",
    "    \"\"\"\n",
    "    # ansatz\n",
    "    prog = Program(\n",
    "        RX(pi, 0),\n",
    "        RY(pi / 2, 1),\n",
    "        RX(-pi / 2, 0),\n",
    "        CNOT(1, 0),\n",
    "        RZ(theta[0], 0),\n",
    "        CNOT(1, 0),\n",
    "        RY(-pi / 2, 1),\n",
    "        RX(pi / 2, 0)\n",
    "    )\n",
    "    \n",
    "    # rotations to measure in the eigenbasis\n",
    "    prog += rotations[k]\n",
    "    \n",
    "    return prog"
   ]
  },
  {
   "cell_type": "code",
   "execution_count": 8,
   "metadata": {},
   "outputs": [
    {
     "name": "stdout",
     "output_type": "stream",
     "text": [
      "DECLARE ro BIT[1]\n",
      "RX(pi) 0\n",
      "RY(pi/2) 1\n",
      "RX(-pi/2) 0\n",
      "CNOT 1 0\n",
      "RZ(0) 0\n",
      "CNOT 1 0\n",
      "RY(-pi/2) 1\n",
      "RX(pi/2) 0\n",
      "I 0\n",
      "MEASURE 0 ro[0]\n",
      "\n"
     ]
    }
   ],
   "source": [
    "\"\"\"Display an example circuit.\"\"\"\n",
    "# term in the Hamiltonian\n",
    "k = 1\n",
    "\n",
    "# circuit for this term (set the variational parameter to be zero)\n",
    "print(circuit(1, [0]))"
   ]
  },
  {
   "cell_type": "markdown",
   "metadata": {},
   "source": [
    "# Computing the Expectation"
   ]
  },
  {
   "cell_type": "markdown",
   "metadata": {},
   "source": [
    "We now write a function to compute the expectation of the $k$th term in our Hamiltonian. Since we have a function for constructing the circuit, we just need to run it and process the output."
   ]
  },
  {
   "cell_type": "code",
   "execution_count": 9,
   "metadata": {},
   "outputs": [],
   "source": [
    "def expectation(k, theta, computer, shots=10000):\n",
    "    # get the circuit to run\n",
    "    circ = circuit(k, theta)\n",
    "    \n",
    "    # set the number of shots\n",
    "    circ.wrap_in_numshots_loop(shots)\n",
    "    \n",
    "    # execute the circuit\n",
    "    res = computer.run(circ)\n",
    "    \n",
    "    # do the postprocessing\n",
    "    tot = 0.0\n",
    "    for vals in res:\n",
    "        tot += (-1)**sum(vals)\n",
    "    return tot / shots"
   ]
  },
  {
   "cell_type": "code",
   "execution_count": 10,
   "metadata": {
    "scrolled": true
   },
   "outputs": [
    {
     "data": {
      "text/plain": [
       "-1.0"
      ]
     },
     "execution_count": 10,
     "metadata": {},
     "output_type": "execute_result"
    }
   ],
   "source": [
    "\"\"\"Compute an example expectation.\"\"\"\n",
    "computer = get_qc(\"2q-qvm\")\n",
    "expectation(1, [0], computer)"
   ]
  },
  {
   "cell_type": "markdown",
   "metadata": {},
   "source": [
    "# Weighting the Expectation"
   ]
  },
  {
   "cell_type": "markdown",
   "metadata": {},
   "source": [
    "Now that we can compute expectations, we just need to weight them with the appropriate coefficient, which is done classically."
   ]
  },
  {
   "cell_type": "code",
   "execution_count": 11,
   "metadata": {},
   "outputs": [],
   "source": [
    "def term(r, k, theta, shots=1000):\n",
    "    \"\"\"Computes one term of <H>.\n",
    "    \n",
    "    Args:\n",
    "        r : int\n",
    "            Index of the radii (bond length).\n",
    "        \n",
    "        k : int\n",
    "            Index of the term in the coefficient.\n",
    "            \n",
    "        theta : list<float>\n",
    "            Parameter in RZ gate in circuit.\n",
    "            \n",
    "        shots : int\n",
    "            Number of times to simulate the circuit.\n",
    "    \"\"\"\n",
    "    coeff = coeffs[r][k]\n",
    "    computer = get_qc(\"2q-qvm\")\n",
    "    return coeff * expectation(k, theta, computer, shots)"
   ]
  },
  {
   "cell_type": "code",
   "execution_count": 12,
   "metadata": {},
   "outputs": [
    {
     "data": {
      "text/plain": [
       "-0.5678"
      ]
     },
     "execution_count": 12,
     "metadata": {},
     "output_type": "execute_result"
    }
   ],
   "source": [
    "\"\"\"Compute an example term.\"\"\"\n",
    "term(r=0, k=1, theta=[0])"
   ]
  },
  {
   "cell_type": "markdown",
   "metadata": {},
   "source": [
    "# Computing the Total Energy"
   ]
  },
  {
   "cell_type": "markdown",
   "metadata": {},
   "source": [
    "Now we can define a function that computes the expectation for all terms at a particular bond length (radii)."
   ]
  },
  {
   "cell_type": "code",
   "execution_count": 13,
   "metadata": {},
   "outputs": [],
   "source": [
    "def energy(r, theta):\n",
    "    \"\"\"Computes the energy at a given bond length radii[r].\"\"\"\n",
    "    # initialize the energy\n",
    "    tot = 0.0\n",
    "    \n",
    "    # add all terms (weighted expectations)\n",
    "    for k in range(1, 5 + 1):\n",
    "        tot += term(r, k, theta)\n",
    "        \n",
    "    # add the constant shift\n",
    "    tot += coeffs[r][0]\n",
    "\n",
    "    # return the value\n",
    "    return tot"
   ]
  },
  {
   "cell_type": "code",
   "execution_count": 14,
   "metadata": {},
   "outputs": [
    {
     "data": {
      "text/plain": [
       "0.15593699999999977"
      ]
     },
     "execution_count": 14,
     "metadata": {},
     "output_type": "execute_result"
    }
   ],
   "source": [
    "\"\"\"Compute the energy for an example radii and example variational parameter.\"\"\"\n",
    "energy(0, [0])"
   ]
  },
  {
   "cell_type": "markdown",
   "metadata": {},
   "source": [
    "# Minimizing the Total Energy"
   ]
  },
  {
   "cell_type": "markdown",
   "metadata": {},
   "source": [
    "Here we define our objective function for a given radii index `r`. The objective function is just a function of our parameter $\\theta$ that we are trying to minimize."
   ]
  },
  {
   "cell_type": "code",
   "execution_count": 15,
   "metadata": {},
   "outputs": [],
   "source": [
    "def obj(theta):\n",
    "    en = energy(0, theta)\n",
    "    print(en, end=\"\\r\")\n",
    "    return en"
   ]
  },
  {
   "cell_type": "markdown",
   "metadata": {},
   "source": [
    "Now we can use a (classical) optimization algorithm to minimize the objective."
   ]
  },
  {
   "cell_type": "code",
   "execution_count": 16,
   "metadata": {
    "scrolled": false
   },
   "outputs": [
    {
     "name": "stdout",
     "output_type": "stream",
     "text": [
      "0.14549579999999995\r"
     ]
    }
   ],
   "source": [
    "opt = minimize(obj, x0=[0], method=\"Powell\")"
   ]
  },
  {
   "cell_type": "code",
   "execution_count": 17,
   "metadata": {},
   "outputs": [
    {
     "data": {
      "text/plain": [
       "0.13806040000000008"
      ]
     },
     "execution_count": 17,
     "metadata": {},
     "output_type": "execute_result"
    }
   ],
   "source": [
    "opt.fun"
   ]
  },
  {
   "cell_type": "markdown",
   "metadata": {},
   "source": [
    "# Computing the Potential Energy Surface"
   ]
  },
  {
   "cell_type": "markdown",
   "metadata": {},
   "source": [
    "Now we loop through all bond lengths and minimize the total energy at each one. Since we haven't seen our bond lengths or coefficients in a while, we'll print them out here."
   ]
  },
  {
   "cell_type": "code",
   "execution_count": 18,
   "metadata": {
    "scrolled": true
   },
   "outputs": [
    {
     "name": "stdout",
     "output_type": "stream",
     "text": [
      "Bond lengths (Angstroms):\n",
      "0.2\n",
      "0.3\n",
      "0.4\n",
      "0.5\n",
      "0.6\n",
      "0.7\n",
      "0.8\n",
      "0.9\n",
      "1.0\n",
      "1.1\n",
      "1.2\n",
      "1.3\n",
      "1.4\n",
      "1.5\n",
      "1.6\n",
      "1.7\n",
      "1.8\n",
      "1.9\n",
      "2.0\n",
      "2.1\n",
      "2.2\n",
      "2.3\n",
      "2.4\n",
      "2.5\n",
      "2.6\n",
      "Coefficients (Hartree):\n",
      "[ 2.8489  0.5678 -1.4508  0.6799  0.0791  0.0791]\n",
      "[ 1.7252  0.5215 -1.1458  0.6631  0.0806  0.0806]\n",
      "[ 1.1182  0.4754 -0.9145  0.6438  0.0825  0.0825]\n",
      "[ 0.7381  0.4325 -0.7355  0.6233  0.0846  0.0846]\n",
      "[ 0.4808  0.3937 -0.595   0.6025  0.087   0.087 ]\n",
      "[ 0.2976  0.3593 -0.4826  0.5818  0.0896  0.0896]\n",
      "[ 0.1626  0.3288 -0.3915  0.5616  0.0925  0.0925]\n",
      "[ 0.0609  0.3018 -0.3168  0.5421  0.0954  0.0954]\n",
      "[-0.0172  0.2779 -0.255   0.5235  0.0986  0.0986]\n",
      "[-0.0778  0.2565 -0.2036  0.5059  0.1018  0.1018]\n",
      "[-0.1253  0.2374 -0.1603  0.4892  0.105   0.105 ]\n",
      "[-0.1629  0.2203 -0.1238  0.4735  0.1083  0.1083]\n",
      "[-0.1927  0.2048 -0.0929  0.4588  0.1116  0.1116]\n",
      "[-0.2165  0.1908 -0.0666  0.4451  0.1149  0.1149]\n",
      "[-0.2355  0.1782 -0.0442  0.4323  0.1181  0.1181]\n",
      "[-0.2508  0.1667 -0.0251  0.4204  0.1211  0.1211]\n",
      "[-0.2632  0.1565 -0.0088  0.4094  0.1241  0.1241]\n",
      "[-0.2731  0.1472  0.0052  0.3992  0.127   0.127 ]\n",
      "[-0.2812  0.139   0.0171  0.3898  0.1297  0.1297]\n",
      "[-0.2879  0.1316  0.0272  0.3811  0.1323  0.1323]\n",
      "[-0.2934  0.1251  0.0359  0.373   0.1347  0.1347]\n",
      "[-0.298   0.1193  0.0432  0.3655  0.137   0.137 ]\n",
      "[-0.3018  0.1142  0.0495  0.3586  0.1392  0.1392]\n",
      "[-0.3051  0.1098  0.0549  0.3521  0.1412  0.1412]\n",
      "[-0.3079  0.1059  0.0594  0.3461  0.1432  0.1432]\n"
     ]
    }
   ],
   "source": [
    "\"\"\"Don't forget the bond lengths and coefficients!\"\"\"\n",
    "print(\"Bond lengths (Angstroms):\")\n",
    "print(*radii, sep=\"\\n\")\n",
    "\n",
    "print(\"Coefficients (Hartree):\")\n",
    "print(*coeffs, sep=\"\\n\")"
   ]
  },
  {
   "cell_type": "code",
   "execution_count": 19,
   "metadata": {
    "scrolled": false
   },
   "outputs": [
    {
     "name": "stdout",
     "output_type": "stream",
     "text": [
      "Current bond length: 0.2\n",
      "Current bond length: 0.3\n",
      "Current bond length: 0.4\n",
      "Current bond length: 0.5\n",
      "Current bond length: 0.6\n",
      "Current bond length: 0.7\n",
      "Current bond length: 0.8\n",
      "Current bond length: 0.9\n",
      "Current bond length: 1.0\n",
      "Current bond length: 1.1\n",
      "Current bond length: 1.2\n",
      "Current bond length: 1.3\n",
      "Current bond length: 1.4\n",
      "Current bond length: 1.5\n",
      "Current bond length: 1.6\n",
      "Current bond length: 1.7\n",
      "Current bond length: 1.8\n",
      "Current bond length: 1.9\n",
      "Current bond length: 2.0\n",
      "Current bond length: 2.1\n",
      "Current bond length: 2.2\n",
      "Current bond length: 2.3\n",
      "Current bond length: 2.4\n",
      "Current bond length: 2.5\n",
      "Current bond length: 2.6\n"
     ]
    }
   ],
   "source": [
    "\"\"\"Compute the minimum energy at each bond length.\"\"\"\n",
    "energies = []\n",
    "for r in range(len(radii)):\n",
    "    # status update\n",
    "    print(\"Current bond length:\", radii[r], \"Angstroms.\")\n",
    "    \n",
    "    # define the objective function for this radius\n",
    "    obj = lambda theta: energy(r, theta)\n",
    "    \n",
    "    # compute the minimum energy\n",
    "    opt = minimize(obj, x0=[0], method=\"Powell\")\n",
    "    \n",
    "    # append the minimum energy to the list\n",
    "    energies.append(opt.fun)"
   ]
  },
  {
   "cell_type": "markdown",
   "metadata": {},
   "source": [
    "# Plotting the Potential Energy Surface"
   ]
  },
  {
   "cell_type": "markdown",
   "metadata": {},
   "source": [
    "We can now visualize the potential energy surface by plotting energies (in Hartree) at each bond length (in Angstroms)."
   ]
  },
  {
   "cell_type": "code",
   "execution_count": 25,
   "metadata": {
    "scrolled": true
   },
   "outputs": [
    {
     "data": {
      "image/png": "[encoded data removed]",
      "text/plain": [
       "<Figure size 432x288 with 1 Axes>"
      ]
     },
     "metadata": {},
     "output_type": "display_data"
    }
   ],
   "source": [
    "\"\"\"Plot the potential energy surface.\"\"\"\n",
    "plt.plot(radii, energies, \"-o\", linewidth=2)\n",
    "plt.grid()\n",
    "plt.title(\"H2 Potential Energy Surface\")\n",
    "plt.xlabel(\"Bond Length [Angstroms]\")\n",
    "plt.ylabel(\"Energy [Hartree]\")\n",
    "\n",
    "plt.show()"
   ]
  },
  {
   "cell_type": "markdown",
   "metadata": {},
   "source": [
    "## References"
   ]
  },
  {
   "cell_type": "markdown",
   "metadata": {},
   "source": [
    "Many thanks to Yousif Almulla for translating the coefficients into code and providing an initial program."
   ]
  },
  {
   "cell_type": "markdown",
   "metadata": {},
   "source": [
    "[1] P. J. J. O’Malley et al., “Scalable Quantum Simulation of Molecular Energies,” \n",
    "Physical Review X, vol. 6, no. 3, Jul. 2016."
   ]
  }
 ],
 "metadata": {
  "kernelspec": {
   "display_name": "Python 3",
   "language": "python",
   "name": "python3"
  },
  "language_info": {
   "codemirror_mode": {
    "name": "ipython",
    "version": 3
   },
   "file_extension": ".py",
   "mimetype": "text/x-python",
   "name": "python",
   "nbconvert_exporter": "python",
   "pygments_lexer": "ipython3",
   "version": "3.6.8"
  }
 },
 "nbformat": 4,
 "nbformat_minor": 2
}
