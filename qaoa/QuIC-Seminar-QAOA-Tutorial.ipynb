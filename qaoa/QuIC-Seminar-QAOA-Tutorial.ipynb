{
 "cells": [
  {
   "cell_type": "markdown",
   "metadata": {},
   "source": [
    "# The Quantum Approximate Optimization Algorithm"
   ]
  },
  {
   "cell_type": "markdown",
   "metadata": {},
   "source": [
    "This notebook walks through the background/theory of the Quantum Approximate Optimization Algorithm [1] and implements QAOA for the Ising Hamiltonian."
   ]
  },
  {
   "cell_type": "markdown",
   "metadata": {},
   "source": [
    "## Requirements"
   ]
  },
  {
   "cell_type": "markdown",
   "metadata": {},
   "source": [
    "For the QAOA implementation, this notebook requires:\n",
    "\n",
    "* <a href=\"https://cirq.readthedocs.io/en/stable/\">Cirq</a> v0.4.0.\n",
    "* Numpy.\n",
    "* Matplotlib."
   ]
  },
  {
   "cell_type": "code",
   "execution_count": 1,
   "metadata": {},
   "outputs": [
    {
     "data": {
      "text/plain": [
       "'Attempt to install Cirq from the notebook.'"
      ]
     },
     "execution_count": 1,
     "metadata": {},
     "output_type": "execute_result"
    }
   ],
   "source": [
    "\"\"\"Attempt to install Cirq from the notebook.\"\"\"\n",
    "#!pip install --upgrade pip\n",
    "#!pip install cirq~=0.4.0"
   ]
  },
  {
   "cell_type": "markdown",
   "metadata": {},
   "source": [
    "# Background and Theory"
   ]
  },
  {
   "cell_type": "markdown",
   "metadata": {},
   "source": [
    "The problem that QAOA seeks to solve is maximizing or minimizing some cost function\n",
    "\n",
    "\\begin{equation} \\label{eqn:cost-sum-over-clauses}\n",
    "    C(\\mathbf{z}) = \\sum_{\\alpha = 1}^{m} C_\\alpha(\\mathbf{z})\n",
    "\\end{equation}\n",
    "\n",
    "written as a sum of $m$ clauses $C_\\alpha(\\mathbf{z})$ on bit strings $\\mathbf{z} \\in \\{0, 1\\}^n$, or equivalently spins $z_i \\in \\{-1, +1\\}^n$ as there is a bijective map between the two. (Bits $z$ and spins $\\sigma$ are related by the bijective mapping $\\sigma = 2 z - 1 \\iff z = (\\sigma + 1) / 2$. Thus, any problem on bits and be framed as a problem on spins, and vice versa.)   \n",
    "\n",
    "An example problem for which QAOA has been used is MaxCut on a regular graph, for which the cost function can be written in terms of spins as\n",
    "\n",
    "\\begin{equation}\n",
    "    C(\\mathbf{z}) = \\frac{1}{2} \\sum_{\\langle i, j \\rangle} w_{ij} ( 1 - z_i z_j )\n",
    "\\end{equation}\n",
    "\n",
    "Here, the sum is over edges $\\langle i, j \\rangle$ in a graph, and each clause $w_{ij} (1 - z_i z_j)$ contributes a nonzero term to the cost if and only if the spins $z_i$ and $z_j$ are anti-aligned (i.e., have different values). \n",
    "\n",
    "\n",
    "By promoting each spin to a Pauli-$Z$ operator (which has eigenvalues $\\pm 1$), the cost can be written as a <i>cost Hamiltonian</i>.\n",
    "\n",
    "\\begin{equation}\n",
    "    C \\equiv H_C = \\frac{1}{2} \\sum_{\\langle i, j \\rangle} w_{ij} ( I - \\sigma_z^{(i)} \\sigma_z^{(j)} )\n",
    "\\end{equation}\n",
    "\n",
    "where $I$ is the identity operator and $\\sigma_z^{(i)}$ denotes a Pauli-$Z$ operator on the $i$th spin. This cost Hamiltonian can easily be seen to be diagonal in the computational basis. This is the general input to the quantum approximate optimization algorithm, as we discuss below.\n",
    "\n",
    "The prescription for QAOA is as follows. Given a cost Hamiltonian $H_C \\equiv H$ of the form given above, define the unitary operator\n",
    "\n",
    "\\begin{equation}\n",
    "    U(H_C, \\gamma) := e^{- i \\gamma H_C} = \\prod_{\\alpha = 1}^{m} e^{- i \\gamma C_\\alpha}\n",
    "\\end{equation}\n",
    "\n",
    "which depends on the parameter $\\gamma$. Note that the second line follows because each clause $C_\\alpha$ is diagonal in the computational basis, hence $[C_\\alpha, C_\\beta] = 0$ for all $\\alpha, \\beta \\in \\{ 1, ..., m \\}$. Further note that this can be interpreted, in light of the previous section, as simulating (i.e., evolving with) the cost Hamiltonian $H_C$ for a <i>time</i> $\\gamma$. We can restrict the \"time\" to be between $0$ and $2 \\pi$, however, since $C$ has integer values. Thus, we can equally think of the parameter $\\gamma$ as an angle of rotation.\n",
    "\n",
    "Next, define the operator $B \\equiv H_B$, known as a <i>mixer Hamiltonian</i>, which is conventionally taken to be\n",
    "\n",
    "\\begin{equation}\n",
    "    B \\equiv H_B = \\sum_{j = 1}^{n} \\sigma_j^{(x)}\n",
    "\\end{equation}\n",
    "\n",
    "where $\\sigma_x^{(j)}$ is a Pauli-$X$ operator on spin $j$. From this, we form the unitary operator\n",
    "\n",
    "\\begin{equation}\n",
    "    U(H_B, \\beta) := e^{- i \\beta B} = \\prod_{j = 1}^{n} e^{- i \\beta \\sigma_j^{(x)}} .\n",
    "\\end{equation}\n",
    "\n",
    "Note that the second line follows because all terms in the Hamiltonian commute with one another. We can view the term $e^{- i \\beta \\sigma_j^{(x)}}$ as a rotation about the $x$ axis on spin $j$ by angle $2 \\beta$. Thus, we can restrict $0 \\le \\beta < \\pi$. \n",
    "\n",
    "With these definitions, we can state the steps of QAOA:\n",
    "\n",
    "(1) Start with an initial state that is an equal superposition over all bit strings (spins)\n",
    "    \n",
    "\\begin{equation}\n",
    "    |s\\rangle = \\frac{1}{\\sqrt{2^n}} \\sum_{z \\in \\{0, 1\\}^n} |z\\rangle \n",
    "\\end{equation}\n",
    "\n",
    "by applying a Hadamard to each qubit $H^{\\otimes n} |0\\rangle^{\\otimes n}$. \n",
    "\n",
    "(2) Evolve with the cost Hamiltonian by implementing $U(H_C, \\gamma)$ for an angle $\\gamma$.\n",
    "\n",
    "(3) Evolve with the mixer Hamiltonian by implementing $U(H_B, \\beta)$ for an angle $\\beta$. \n",
    "\n",
    "(4) Repeat steps (2) and (3) $p$ times with different parameters $\\gamma_i, \\beta_i$ at each step $i = 1, ..., p$ to form the state\n",
    "\n",
    "\\begin{equation} \\label{eqn:qaoa-circuit-eqn}\n",
    "    |\\mathbf{\\gamma}, \\mathbf{\\beta} \\rangle := \\prod_{i = 1}^{p} U(H_B, \\beta_i) U(H_C, \\gamma_i) |s\\rangle .\n",
    "\\end{equation}\n",
    "\n",
    "(5) Measure in the computational basis to compute the expectation of $H_C$ in this state:\n",
    "\n",
    "\\begin{equation} \\label{eqn:qaoa-expectation}\n",
    "    F_p(\\mathbf{\\gamma}, \\mathbf{\\beta}) := \\langle \\mathbf{\\gamma}, \\mathbf{\\beta} | H_C | \\mathbf{\\gamma}, \\mathbf{\\beta} \\rangle .\n",
    "\\end{equation}\n",
    "\n",
    "(6) Use a (classical) optimization algorithm to (approximately) compute the maximum or minimum value of $F_p(\\mathbf{\\gamma}, \\mathbf{\\beta})$.\n",
    "\n",
    "(7) Sample from the output distribution of the circuit with optimal parameters to get a set of bit strings $\\mathbf{z}$. The most probable bit strings encode the approximate optimum for the cost function.\n",
    "\n",
    "\n",
    "It can be shown using the adiabatic theorem of quantum computing that\n",
    "\n",
    "\\begin{equation}\n",
    "    \\lim_{p \\rightarrow \\infty} \n",
    "    \\max_{\\mathbf{\\gamma}, \\mathbf{\\beta}} F_p(\\mathbf{\\gamma}, \\mathbf{\\beta}) \n",
    "    = \\max_{z} C(z) .\n",
    "\\end{equation}\n",
    "\n",
    "That is, given enough parameters $\\gamma, \\beta$, we can be sure the exact solution of the problem is attainable. The parameter $p$ can thus be considered a hyperparameter. One form of approximation in the quantum <i>approximate</i> optimization algorithm is the finite cutoff for $p$. Another form of approximation is the ability of the classical optimizer to find the optimum."
   ]
  },
  {
   "cell_type": "markdown",
   "metadata": {},
   "source": [
    "# Example Problem: The Ising Hamiltonian"
   ]
  },
  {
   "cell_type": "markdown",
   "metadata": {},
   "source": [
    "To get a better idea of how QAOA works, we now turn to an implementation. In this example, we consider the transverse field Ising model as a cost Hamiltonian:\n",
    "\n",
    "\\begin{equation}\n",
    "    H_C = - \\sum_{\\langle i, j\\rangle} J_{ij} \\sigma_z^{(i)} \\sigma_z^{(j)} - \\sum_{i} h_i \\sigma_{i}^{(x)} .\n",
    "\\end{equation}\n",
    "\n",
    "For simplicity of presentation, we set the transverse field coefficients to zero ($h_i = 0$) and set each interaction coefficient equal to one ($J_{ij} = 1$). The Hamiltonian can be modified in a straightforward way to account for the general problem, but these details are not important in a first encounter with QAOA. Another reason for this is that this system is trivial to solve analytically---thus, we can compare the solution found by QAOA to the exact solution. By making these simplifications, our cost Hamiltonian has the form \n",
    "\n",
    "\\begin{equation}\n",
    "    H_C = - \\sum_{\\langle i, j\\rangle} \\sigma_z^{(i)} \\sigma_z^{(j)}\n",
    "\\end{equation}\n",
    "\n",
    "The graph (i.e., arrangement of spins) we will consider is nearest neighbors on a 2D grid. We thus need a way to implement the unitary operator\n",
    "\n",
    "\\begin{equation}\n",
    "    U(H_C, \\gamma) := e^{-i H_C \\gamma} = \\prod_{\\langle i, j\\rangle} e^{i \\gamma Z_i Z_j}\n",
    "\\end{equation}\n",
    "\n",
    "where we will now write $\\sigma_z^{(i)} = Z_i$ for simplicity. In order to implement this entire unitary, we need a sequence of gates for implementing each $e^{i \\gamma Z_i Z_j}$ term, where $i$ and $j$ are neighbors in the graph. It will be convenient to rescale $\\gamma$ and consider implementing the unitary $e^{i \\pi \\gamma Z_i Z_j}$. To understand how to do this, note that the operator $Z \\otimes Z$ is diagonal in the computational basis, hence $e^{i \\pi \\gamma Z \\otimes Z}$ is just the exponential of each diagonal element (multiplied by $i \\pi \\gamma$):\n",
    "\n",
    "\\begin{equation} \\label{eqn:qaoa-mtx-to-implement}\n",
    "    \\exp(i \\pi \\gamma Z\\otimes Z) = \n",
    "    \\begin{bmatrix}\n",
    "        e^{i \\pi \\gamma}  & 0  &0&0\\\\\n",
    "        0 & e^{-i \\pi \\gamma}   &0&0\\\\\n",
    "        0&0& e^{-i \\pi \\gamma}  &0 \\\\\n",
    "        0&0 & 0  & e^{i \\pi \\gamma}\n",
    "        \\end{bmatrix} .\n",
    "\\end{equation}\n",
    "\n",
    "To get some intuition about how to implement this operator in terms of standard gates, note that the controlled-$Z$ gate is diagonal with $C(Z) = \\text{diag}(1, 1, 1, -1)$. Writing $-1 = e^{i \\pi}$, we see that $C(Z) = \\text{diag}(1, 1, 1, e^{i \\pi})$, hence\n",
    "\n",
    "\\begin{equation}\n",
    "    C(Z^\\gamma) = \\begin{bmatrix}\n",
    "        1  & 0  &0&0\\\\\n",
    "        0 & 1   &0&0\\\\\n",
    "        0&0& 1  &0 \\\\\n",
    "        0&0 & 0  & e^{i\\pi \\gamma}\n",
    "    \\end{bmatrix}\n",
    "\\end{equation}\n",
    "\n",
    "This gives us one diagonal term in the final unitary that we want to implement. To get the other terms, we can apply $X$ operators on the appropriate qubits. For example,\n",
    "\n",
    "\\begin{equation}\n",
    "    (I\\otimes X)\n",
    "    \\begin{bmatrix}\n",
    "        1  & 0  &0&0\\\\\n",
    "        0 & 1   &0&0\\\\\n",
    "        0&0& 1  &0 \\\\\n",
    "        0&0 & 0  & e^{i\\pi \\gamma}\n",
    "    \\end{bmatrix}\n",
    "    (I\\otimes X)\n",
    "    =\n",
    "    \\begin{bmatrix}\n",
    "        1  & 0  &0&0\\\\\n",
    "        0 & 1   &0&0\\\\\n",
    "        0&0& e^{i\\pi \\gamma}  &0 \\\\\n",
    "        0&0 & 0  & 1\n",
    "    \\end{bmatrix}\n",
    "\\end{equation}\n",
    "\n",
    "We can continue in this fashion to get all four diagonal elements, then get the full unitary by simply multiplying them together (using the fact that the product of diagonal matrices is diagonal).\n",
    "\n",
    "In the Cirq code below, we write a function which gives us a circuit for implementing the unitary $e^{-i \\pi \\gamma Z_i Z_j}$. We then test our function by printing out the circuit for an example set of qubits $i$ and $j$ with an arbitrary value of $\\gamma$, and making sure the unitary matrix of this circuit is what we expect."
   ]
  },
  {
   "cell_type": "code",
   "execution_count": 2,
   "metadata": {},
   "outputs": [],
   "source": [
    "\"\"\"Imports.\"\"\"\n",
    "import numpy as np\n",
    "import matplotlib.pyplot as plt\n",
    "\n",
    "import cirq"
   ]
  },
  {
   "cell_type": "markdown",
   "metadata": {},
   "source": [
    "# Building the QAOA Circuit"
   ]
  },
  {
   "cell_type": "code",
   "execution_count": 3,
   "metadata": {},
   "outputs": [],
   "source": [
    "\"\"\"Function to implement the ZZ gate in the Ising Hamiltonian.\"\"\"\n",
    "def ZZ(a, b, gamma):\n",
    "    \"\"\"Returns a circuit implementing exp(i \\pi \\gamma Z_i Z_j).\"\"\"\n",
    "    # Get a circuit\n",
    "    circuit = cirq.Circuit()\n",
    "    \n",
    "    # Gives the fourth diagonal component\n",
    "    circuit.append(cirq.CZ(a, b)**gamma) \n",
    "    \n",
    "    # Gives the third diagonal component\n",
    "    circuit.append([cirq.X(b), cirq.CZ(a,b)**(-1 * gamma), cirq.X(b)])\n",
    "    \n",
    "    # Gives the second diagonal component\n",
    "    circuit.append([cirq.X(a), cirq.CZ(a,b)**-gamma, cirq.X(a)])\n",
    "    \n",
    "    # Gives the first diagonal component\n",
    "    circuit.append([cirq.X(a), cirq.X(b), cirq.CZ(a,b)**gamma, \n",
    "                    cirq.X(a), cirq.X(b)])\n",
    "    \n",
    "    return circuit"
   ]
  },
  {
   "cell_type": "markdown",
   "metadata": {},
   "source": [
    "The following function returns a circuit evolving with the cost Hamiltonian."
   ]
  },
  {
   "cell_type": "code",
   "execution_count": 4,
   "metadata": {},
   "outputs": [],
   "source": [
    "\"\"\"Function for evolving with the cost Hamiltonian.\"\"\"\n",
    "def cost_circuit(gamma):\n",
    "    \"\"\"Returns a circuit for evolving with the cost Hamiltonian.\"\"\"\n",
    "    circ = cirq.Circuit()\n",
    "    for i in range(nrows):\n",
    "        for j in range(ncols):\n",
    "            if i < nrows - 1:\n",
    "                circ += ZZ(qreg[i][j], qreg[i + 1][j], gamma)\n",
    "            if j < ncols - 1:\n",
    "                circ += ZZ(qreg[i][j], qreg[i][j + 1], gamma)\n",
    "\n",
    "    return circ"
   ]
  },
  {
   "cell_type": "markdown",
   "metadata": {},
   "source": [
    "We now write a function for implementing our \"mixer\" Hamiltonian with the standard QAOA ansatz."
   ]
  },
  {
   "cell_type": "code",
   "execution_count": 5,
   "metadata": {},
   "outputs": [],
   "source": [
    "\"\"\"Function for evolving with the mixer Hamiltonian.\"\"\"\n",
    "def mixer(beta):\n",
    "    \"\"\"Generator for U(H_B, beta) layer (mixing layer)\"\"\"\n",
    "    for row in qreg:\n",
    "        for qubit in row:\n",
    "            yield cirq.X(qubit)**beta"
   ]
  },
  {
   "cell_type": "markdown",
   "metadata": {},
   "source": [
    "And now we can write a function to build the entire QAOA circuit for $p$ layers. Here, the number of layers comes in from the length of the input lists of `gammas` and `betas`."
   ]
  },
  {
   "cell_type": "code",
   "execution_count": 6,
   "metadata": {},
   "outputs": [],
   "source": [
    "def qaoa(gammas, betas):\n",
    "    \"\"\"Returns a QAOA circuit.\"\"\"\n",
    "    circ = cirq.Circuit()\n",
    "    \n",
    "    # Prepare the initial state H|0>\n",
    "    circ.append(cirq.H.on_each([q for row in qreg for q in row]))\n",
    "    \n",
    "    # Add the alternating mixer and cost Hamiltonian evolution circuits\n",
    "    for i in range(len(gammas)):\n",
    "        circ += cost_circuit(gammas[i])\n",
    "        circ.append(mixer(betas[i]))\n",
    "    \n",
    "    return circ"
   ]
  },
  {
   "cell_type": "markdown",
   "metadata": {},
   "source": [
    "# Simulating the Circuit and Computing the Cost"
   ]
  },
  {
   "cell_type": "markdown",
   "metadata": {},
   "source": [
    "We'll cheat by getting explicit access to the wavefunction to compute the cost. First, we write a function that simulates the circuit and returns the wavefunction."
   ]
  },
  {
   "cell_type": "code",
   "execution_count": 7,
   "metadata": {},
   "outputs": [],
   "source": [
    "\"\"\"Function for simulating the circuit.\"\"\"\n",
    "def simulate(circ):\n",
    "    \"\"\"Returns the wavefunction after applying the circuit.\"\"\"\n",
    "    sim = cirq.Simulator()\n",
    "    return sim.simulate(circ).final_state"
   ]
  },
  {
   "cell_type": "markdown",
   "metadata": {},
   "source": [
    "Next, we can compute the energy from the wavefunction with the following function."
   ]
  },
  {
   "cell_type": "code",
   "execution_count": 8,
   "metadata": {},
   "outputs": [],
   "source": [
    "\"\"\"Helper function to compute the expectation of the cost Hamiltonian using the wavefunction.\"\"\"\n",
    "def energy_from_wavefunction(wf):\n",
    "    \"\"\"Computes the energy-per-site of the Ising Model from the wavefunction.\"\"\"\n",
    "    # Z is a (nsites x 2**nsites) array. Each row consists of the \n",
    "    # 2**nsites non-zero entries in the operator that is the Pauli-Z matrix on\n",
    "    # one of the qubits times the identites on the other qubits. The (i*ncols + j)th\n",
    "    # row corresponds to qubit (i,j).\n",
    "    Z = np.array([(-1)**(np.arange(2**nsites) >> i) \n",
    "                for i in range(nsites-1,-1,-1)])\n",
    "\n",
    "    # Create the operator corresponding to the interaction energy summed over all\n",
    "    # nearest-neighbor pairs of qubits\n",
    "    ZZ_filter = np.zeros_like(wf, dtype=float)\n",
    "    for i in range(nrows):\n",
    "        for j in range(ncols):\n",
    "            if i < nrows-1:\n",
    "                ZZ_filter += Z[i*ncols + j]*Z[(i+1)*ncols + j]\n",
    "            if j < ncols-1:\n",
    "                ZZ_filter += Z[i*ncols + j]*Z[i*ncols + (j+1)]\n",
    "            \n",
    "    # Expectation value of the energy divided by the number of sites\n",
    "    return -np.sum(np.abs(wf)**2 * ZZ_filter) / nsites"
   ]
  },
  {
   "cell_type": "markdown",
   "metadata": {},
   "source": [
    "And finally a function using these two helper functions for computing the cost directly from the `gamma` and `beta` parameter values."
   ]
  },
  {
   "cell_type": "code",
   "execution_count": 9,
   "metadata": {},
   "outputs": [],
   "source": [
    "\"\"\"Function for computing the cost from the parameters.\"\"\"\n",
    "def cost(gammas, betas):\n",
    "    \"\"\"Returns the cost function of the problem.\"\"\"\n",
    "    wavefunction = simulate(qaoa(gammas, betas))\n",
    "    return energy_from_wavefunction(wavefunction)"
   ]
  },
  {
   "cell_type": "markdown",
   "metadata": {},
   "source": [
    "# Finding the Best Parameters"
   ]
  },
  {
   "cell_type": "markdown",
   "metadata": {},
   "source": [
    "Here we can use a simple grid search over a range of values for one layer of QAOA. This is not the most elegant solution and does not scale well for more parameters."
   ]
  },
  {
   "cell_type": "code",
   "execution_count": 10,
   "metadata": {},
   "outputs": [],
   "source": [
    "\"\"\"Function for doing a grid search over parameter values.\"\"\"\n",
    "def grid_search(gammavals, betavals):\n",
    "    \"\"\"Does a grid search over all parameter values and returns the costs.\n",
    "    \n",
    "    REQUIRES gammavals and betavals to have length 1.\n",
    "    \"\"\"\n",
    "    costmat = np.zeros((len(gammavals), len(betavals)))\n",
    "    \n",
    "    for (i, gamma) in enumerate(gammavals):\n",
    "        for (j, beta) in enumerate(betavals):\n",
    "            costmat[i, j] = cost([gamma], [beta])\n",
    "\n",
    "    return costmat"
   ]
  },
  {
   "cell_type": "markdown",
   "metadata": {},
   "source": [
    "We can now set up the qubits and do the grid search."
   ]
  },
  {
   "cell_type": "code",
   "execution_count": 11,
   "metadata": {},
   "outputs": [],
   "source": [
    "\"\"\"Set up the qubits for this problem.\"\"\"\n",
    "ncols = 3\n",
    "nrows = 3\n",
    "nsites = nrows * ncols\n",
    "qreg = [[cirq.GridQubit(i,j) for j in range(ncols)] for i in range(nrows)]"
   ]
  },
  {
   "cell_type": "code",
   "execution_count": 12,
   "metadata": {},
   "outputs": [],
   "source": [
    "\"\"\"Do the grid search.\"\"\"\n",
    "ngammas = 50\n",
    "nbetas = 75\n",
    "\n",
    "gammavals = np.linspace(0, 1, ngammas)\n",
    "betavals = np.linspace(0, np.pi, nbetas)\n",
    "\n",
    "costmat = grid_search(gammavals, betavals)"
   ]
  },
  {
   "cell_type": "markdown",
   "metadata": {},
   "source": [
    "Now we can visualize the cost landscape."
   ]
  },
  {
   "cell_type": "code",
   "execution_count": 13,
   "metadata": {},
   "outputs": [
    {
     "data": {
      "image/png": "[encoded data removed]",
      "text/plain": [
       "<Figure size 432x288 with 2 Axes>"
      ]
     },
     "metadata": {},
     "output_type": "display_data"
    }
   ],
   "source": [
    "\"\"\"Visualizing the cost landscape.\"\"\"\n",
    "plt.imshow(costmat, extent=(0, 1, 0, np.pi), origin=\"lower\", aspect=\"auto\")\n",
    "plt.colorbar()\n",
    "plt.show()"
   ]
  },
  {
   "cell_type": "markdown",
   "metadata": {},
   "source": [
    "Note that the cost landscape has a lot of symmetries. This is typical in variational quantum algorithms.\n",
    "\n",
    "We can now \"manually\" extract the best parameters and print out the minimum cost found, as follows:"
   ]
  },
  {
   "cell_type": "code",
   "execution_count": 14,
   "metadata": {},
   "outputs": [
    {
     "name": "stdout",
     "output_type": "stream",
     "text": [
      "Minimum cost = -0.5375467536772097\n"
     ]
    }
   ],
   "source": [
    "\"\"\"Extracting the best parameters and minimum cost.\"\"\"\n",
    "# Coordinates from the grid of cost values\n",
    "gamma_coord, beta_coord = np.where(costmat == np.min(costmat))\n",
    "\n",
    "# Values from the coordinates\n",
    "gamma_opt = gammavals[gamma_coord[0]]\n",
    "beta_opt = betavals[beta_coord[0]]\n",
    "\n",
    "# Display the optimal cost\n",
    "print(\"Minimum cost =\", cost([gamma_opt], [beta_opt]))"
   ]
  },
  {
   "cell_type": "markdown",
   "metadata": {},
   "source": [
    "# Sampling from the Circuit to get the Best Bit Strings"
   ]
  },
  {
   "cell_type": "markdown",
   "metadata": {},
   "source": [
    "Now that we have the optimal parameters, we merely need to sample from the circuit instantiated with these parameters."
   ]
  },
  {
   "cell_type": "code",
   "execution_count": 15,
   "metadata": {},
   "outputs": [],
   "source": [
    "\"\"\"Helper function to get the bit strings from sampling the circuit.\"\"\"\n",
    "def get_bit_strings(gammas, betas, nreps=10000):\n",
    "    \"\"\"Measures the QAOA circuit in the computational basis to get bit strings.\"\"\"\n",
    "    circ = qaoa(gammas, betas)\n",
    "    circ.append(cirq.measure(*[qubit for row in qreg for qubit in row], key='m'))\n",
    "    \n",
    "    # Simulate the circuit\n",
    "    sim = cirq.Simulator()\n",
    "    res = sim.run(circ, repetitions=nreps)\n",
    "    \n",
    "    return res"
   ]
  },
  {
   "cell_type": "markdown",
   "metadata": {},
   "source": [
    "Now we use this function to sample from the circuit and get the most common bit strings."
   ]
  },
  {
   "cell_type": "code",
   "execution_count": 16,
   "metadata": {},
   "outputs": [
    {
     "name": "stdout",
     "output_type": "stream",
     "text": [
      "\n",
      "Most common bit string:\n",
      "0b111111111\n",
      "\n",
      "Second most common bit string:\n",
      "0b000000000\n"
     ]
    }
   ],
   "source": [
    "\"\"\"Getting the most common bit strings from the QAOA circuit with optimal parameters.\"\"\"\n",
    "# Sample to get bits and convert to a histogram\n",
    "bits = get_bit_strings([gamma_opt], [beta_opt])\n",
    "hist = bits.histogram(key=\"m\")\n",
    "\n",
    "# Get the most common bits\n",
    "top = hist.most_common(2)\n",
    "\n",
    "# Print out the two most common bit strings measured\n",
    "print(\"\\nMost common bit string:\")\n",
    "print(format(top[0][0], \"#011b\"))\n",
    "\n",
    "print(\"\\nSecond most common bit string:\")\n",
    "print(format(top[1][0], \"#011b\"))"
   ]
  },
  {
   "cell_type": "markdown",
   "metadata": {},
   "source": [
    "You should see the all zeros bit string (all spins down) and all ones bit string (all spins up). This is expected to give the minimum energy from the Ising Hamiltonian we considered."
   ]
  },
  {
   "cell_type": "markdown",
   "metadata": {},
   "source": [
    "# Acknowledgements"
   ]
  },
  {
   "cell_type": "markdown",
   "metadata": {},
   "source": [
    "The code in this notebook is based off a <a href=\"https://colab.research.google.com/drive/1-xj4rR7jqCRCaErsh2Ntsh4mbBUBD6Fz\">Cirq Colab tutorial notebook on QAOA</a>.\n",
    "\n",
    "Note: This material is a draft of a chapter to appear in a textbook."
   ]
  },
  {
   "cell_type": "markdown",
   "metadata": {},
   "source": [
    "# References"
   ]
  },
  {
   "cell_type": "markdown",
   "metadata": {},
   "source": [
    "[1] E. Farhi, J. Goldstone, and S. Gutmann, “A Quantum Approximate Optimization Algorithm,” arXiv:1411.4028 [quant-ph], Nov. 2014.\n"
   ]
  }
 ],
 "metadata": {
  "kernelspec": {
   "display_name": "Python 3",
   "language": "python",
   "name": "python3"
  },
  "language_info": {
   "codemirror_mode": {
    "name": "ipython",
    "version": 3
   },
   "file_extension": ".py",
   "mimetype": "text/x-python",
   "name": "python",
   "nbconvert_exporter": "python",
   "pygments_lexer": "ipython3",
   "version": "3.6.8"
  }
 },
 "nbformat": 4,
 "nbformat_minor": 2
}
