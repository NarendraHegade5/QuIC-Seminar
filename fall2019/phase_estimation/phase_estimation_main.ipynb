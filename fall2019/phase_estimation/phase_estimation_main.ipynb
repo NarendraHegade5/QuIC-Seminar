{
 "cells": [
  {
   "cell_type": "markdown",
   "metadata": {},
   "source": [
    "# Phase estimation\n",
    "\n",
    "This notebook is  based on [this](https://www.ryanlarose.com/uploads/1/1/5/8/115879647/quic03-phase-estimation.pdf) set of notes, which was written by Ryan LaRose.\n",
    "$$\\newcommand{\\ket}[1]{\\left|{#1}\\right\\rangle}$$\n",
    "$$\\newcommand{\\bra}[1]{\\left\\langle{#1}\\right|}$$"
   ]
  },
  {
   "cell_type": "markdown",
   "metadata": {},
   "source": [
    "The phase estimation algorithm is used to determine the eigenvalues of a unitary operator. Computing eigenvalues has an enormous number of applications in an enormous number of fields. As such, the phase estimation algorithm is used in a large number of other quantum algorithms from solving linear systems of equations in linear algebra (search for the HHL algorithm) to minimizing the number of features required in machine learning applications (search for quantum principal component analysis)."
   ]
  },
  {
   "cell_type": "markdown",
   "metadata": {},
   "source": [
    "### What is \"phase estimation\"?\n",
    "Lets introduce some background notation first. We’re concerned with an eigenvalue problem, namely an equation of the form\n",
    "\n",
    "$$A \\mathbf{x} = \\lambda \\mathbf{x}$$\n",
    "where $A \\in \\mathbb{C}^{2^m \\times 2^m}$, $\\mathbf{x} \\in \\mathbb{C}^{2^m}$ and $\\lambda \\in \\mathbb{C}$. Note that we write the dimension as $2^m$ for convenience, since $m$ qubits imply a state space of size $2^m$ as we have previously seen. (We’re using $m$ instead of the standard $n$ because we’ll introduce another $n$ qubits later in the algorithm.) In the quantum case, we’re only going to be concerned with unitary operators, which we normally write as $U$. Since these operators satisfy $U^{\\dagger}U = I$, any eigenvalue has magnitude one. Since $\\mid \\lambda \\mid = 1$, we can write it without loss of generality as \n",
    "\n",
    "$$\\lambda = e^{2 \\pi i \\phi}$$\n",
    "where $0 ≤ \\phi ≤ 1$ is called the *phase*. Hence the term “phase” in “phase estimation.” The term “estimation” comes about not from the fact that quantum computation is probabilistic, but rather in the degree of precision that we are going to compute, or estimate, the phase to. The most general case of phase estimation is when the phase cannot be written exactly using $n$ bits of precision. In this lecture, we’ll only cover the case where $\\phi$ can be written exactly using $n$ bits.\n",
    "\n",
    "Before we going about estimating the phase, let’s introduce some useful notation that is common in quantum algorithms. The phase $\\phi$ is going to be between zero and one, so we can write it as a decimal in binary notation as follows:\n",
    "\n",
    "$$\\phi=0.\\phi_1\\phi_2 \\cdot \\cdot \\cdot \\phi_n$$\n",
    "\n",
    "where each $\\phi_i$ is either zero or one. What does this mean exactly? The same thing we mean when we always write decimals, except here we’re using binary notation.\n",
    "\n",
    "---\n",
    "\n",
    "*Definition*. The expression $\\phi=0.\\phi_1\\phi_2 \\cdot \\cdot \\cdot \\phi_n$ is equivalent to\n",
    "\n",
    "$$\\phi=0.\\phi_1\\phi_2 \\cdot \\cdot \\cdot \\phi_n \\iff \\phi = \\sum_{k=1}^{n} \\phi_k 2^{-k}$$.\n",
    "\n",
    "*Example 1: some numbers as binary decimals*.\n",
    "The number 0.5 in decimal is 0.1 in binary, since $0.1 ≡ (1) · 2^{−1} = 1/2 = 0.5$. Note that 0.1 is the same as 0.100000....\n",
    " The number 0.75 in decimal is 0.11 in binary, since $0.11 ≡ (1)·2^{−1} +1·2^{−2} = 1/2+1/4 = 3/4 = 0.75$.\n",
    " \n",
    "---"
   ]
  },
  {
   "cell_type": "markdown",
   "metadata": {},
   "source": [
    "### Action of Controlling an Operator on its Eigenstate\n",
    "\n",
    "The key to understanding the phase estimation algorithm is what happens in the following circuit. \n",
    "<img src=\"fig1.png\" align=\"middle\">\n",
    "\n",
    "Here we let $U$ be a unitary operator and $\\bra{\\psi}$ an eigenstate with eigenvalue $\\lambda = e^{2 \\pi i 0.\\phi_1}$. We first perform\n",
    "a Hadamard gate on the first qubit to get the state\n",
    "\n",
    "$$\\ket{+} \\otimes \\ket{\\psi} = \\ket{0}\\ket{\\psi} + \\ket{1}\\ket{\\psi}$$\n",
    "where we have intentionally omitted the normalization factor of $1/\\sqrt{2}$ for clarity. We then perform a controlled $U$ operation, which we have written as $U^{2^0}$ for reasons that will become clear shortly. The action of this gate is to produce the new state\n",
    "\n",
    "$$\\ket{0}\\ket{\\psi} + \\ket{1}U\\ket{\\psi} = \\ket{0}\\ket{\\psi} + e^{2 \\pi i 0.\\phi_1}\\ket{1}\\ket{\\psi} = \\Big (\\ket{0} + e^{2 \\pi i 0.\\phi_1}\\ket{1} \\Big ) \\otimes \\ket{\\psi}$$\n",
    "\n",
    "Note what happened: The second qubit register containing $\\ket{\\psi}$ hasn’t changed. We shouldn’t expect it to, since $\\ket{\\psi}$ is an eigenstate of $U$. Thus, no matter how many times we apply $U$ to this register, nothing happens to $\\ket{\\psi}$.\n",
    "\n",
    "That’s rather odd though—what’s the point of applying $U$ then? The effect was that it *wrote* some information about the eigenvalue into the relative phase of the first qubit. Namely, the entire effect was to map\n",
    "\n",
    "$$\\ket{0} + \\ket{1} \\to \\ket{0} + e^{2 \\pi i 0.\\phi_1}\\ket{1}$$\n",
    "\n",
    "How can we read out this information from the quantum state? Consider the effect of applying another Hadamard transformation on the first qubit, which will produce\n",
    "\n",
    "$$H(\\ket{0} + e^{2 \\pi i 0.\\phi_1}\\ket{1}) = (1 + e^{2 \\pi i 0.\\phi_1})\\ket{0} + (1 - e^{2 \\pi i 0.\\phi_1})\\ket{1}$$\n",
    "where we have again ignored the normalization factor of 1/2.\n",
    "\n",
    "Now, $\\phi_1$ can only be zero or one. In the case that $\\phi_1 = 0$, $e^{2 \\pi i 0. \\phi_1} = 1$, hence the state is exactly $\\ket{0}$. Thus, we measure with certainty (i.e., not probabilistically) a state that tells us exactly what the phase, and hence the eigenvalue, is.\n",
    "\n",
    "---\n",
    "\n",
    "*Example 2: Phase estimation on Pauli-$X$*.\n",
    "\n",
    "First, prove that the eigenvalues of $X$ are −1 and 1 with eigenvectors $\\ket{-}$ and $\\ket{+}$ respectively.\n",
    "Now, let’s see how we can do this using the phase estimation algorithm. The first thing we need to do is prepare an eigenstate, which we can do by performing the Hadamard gate on the $\\ket{0}$ state in the second register to get the plus state. Then, we control on the first qubit in uniform superposition to implement a controlled-$X$ gate, otherwise known as CNOT. Finally, we implement $H$ again on the top qubit, then measure. The complete circuit for this state is shown in in the following circuit.\n",
    "\n",
    "<img src=\"fig2.png\" align=\"middle\">\n",
    "\n",
    "The complete state after applying both Hadamard gates to both qubits is given by the uniform superposition\n",
    "\n",
    "$$\\ket{+} \\otimes \\ket{+} = \\ket{00} + \\ket{01} + \\ket{10} + \\ket{11}$$.\n",
    "Note that this state remains unchanged under the CNOT. After performing the second Hadamard on the top qubit, the top qubit is in the state $\\ket{0}$. Hence, measurement always returns the outcome $\\phi_1 = 0$, and so we conclude that the corresponding eigenvalue is $\\lambda = e^{2\\pi i \\cdot 0} = 1$, as we must.\n",
    "\n",
    "---"
   ]
  },
  {
   "cell_type": "markdown",
   "metadata": {},
   "source": [
    "### Controlling Higher Powers\n",
    "\n",
    "The key idea of the phase estimation algorithm is to keep applying the same controlled-$U$ operations, but at successively higher powers of two. The final algorithm introduces $n$ qubits in the top register and implements $C(U^{2^k})$ between the kth qubit and the bottom register. Let’s build up to this with one more example where $n = 2$.\n",
    "\n",
    "The complete circuit for the $n = 2$ case is shown below. (Note that, although we’re only writing one wire for the bottom register, this really consists of $m$ qubits. That is, $\\ket{\\psi}$ is an $m$-qubit state and $U$ is an $m$-qubit unitary.)\n",
    "\n",
    "<img src=\"fig3.png\" align=\"middle\">\n",
    "\n",
    "We’ve already computed what the first control does to the top register. The wavefunction at this point in the circuit is\n",
    "\n",
    "$$\\Big ( \\ket{0} + e^{2 \\pi i 0.\\phi_1 \\phi_2} \\ket{1} \\Big ) \\otimes \\Big( \\ket{0} + \\ket{1} \\Big ) \\otimes \\ket{\\psi}$$\n",
    "Note that the relative phase in the first qubit now has two digits because we assumed that $\\phi=0.\\phi_1\\phi_2$ consists of two digits.\n",
    "\n",
    "The same exact operation now happens on the second qubit, except for one key difference: the power of $U$. In particular, $U$ is now squared. What effect does this have? (answer: $U^2 \\ket{\\psi} = e^{2 \\pi i (2\\phi)} \\ket{\\psi}$).\n",
    "\n",
    "Note an interesing thing:\n",
    "\n",
    "$$2 \\phi = 2 \\cdot 0.\\phi_1\\phi_2 = 2(\\phi_1 2^{-1} + \\phi_2 2^{-2}) = \\phi_1 + 2 \\phi_2 2^{-1} = \\phi_1.\\phi_2$$\n",
    "The effect is that the decimal moves one place to the right. (This should not be too surprising based on common arithmetic in base ten.) What’s interesting and convenient, however, is what happens in the exponent:\n",
    "\n",
    "$$e^{2 \\pi i (2 \\phi)} = e^{2 \\pi i (\\phi_1 + 0.\\phi_2)} = e^{2 \\pi i \\phi_1} e^{2 \\pi i 0.\\phi_2} = e^{2 \\pi i 0.\\phi_2}$$\n",
    "\n",
    "The last inequality follows because $\\phi_1$ is an integer and so the exponential is unity. (In general $e^{2 \\pi i (2^k \\phi)} = e^{2 \\pi i 0.\\phi_k\\phi_{k+1}...}$).\n",
    "\n",
    "Thus, we have proven that the state after applying the $C(U^2)$ to the wavefunction is\n",
    "\n",
    "$$\\Big ( \\ket{0} + e^{2 \\pi i 0.\\phi_1 \\phi_2} \\ket{1} \\Big ) \\otimes \\Big( \\ket{0} + e^{2 \\pi i 0.\\phi_2} \\ket{1} \\Big ) \\otimes \\ket{\\psi} (*)$$\n",
    "\n",
    "How do we read out this information? This time it’s not so easy as a simple Hadamard transform. The missing ingredient is **the quantum Fourier transform**. In particular, the key fact that we’ll be using is the following:\n",
    "\n",
    "---\n",
    "\n",
    "*Definition*. (Quantum Fourier transform action) The quantum Fourier transform is a unitary change of basis with the following effect:\n",
    "\n",
    "$$QFT \\Big ( \\ket{\\phi_1}\\ket{\\phi_2}\\cdot\\cdot\\cdot\\ket{\\phi_n} \\Big ) = 2^{-n/2} \\Big ( \\ket{0} + e^{2 \\pi i0.\\phi_1} \\ket{1} \\Big ) \\otimes \\Big ( \\ket{0} + e^{2 \\pi i0.\\phi_1 \\phi_2} \\ket{1} \\Big )\\otimes \\cdot\\cdot\\cdot \\otimes \\Big ( \\ket{0} + e^{2 \\pi i0.\\phi_1\\phi_2...\\phi_n} \\ket{1} \\Big )$$\n",
    "\n",
    "---\n",
    "\n",
    "The state on the right looks exactly like what we end up with from phase estimation! (Except with the order of the bits reversed, but this is not problem.) So, what we need to apply then to read out the information is the inverse Fourier transform QFT$^{\\dagger}$. (The QFT is unitary, as every quantum algorithm must be, therefore it has an inverse).\n",
    "\n",
    "Thus, if we apply QFT$^{\\dagger}$ to the state in (\\*), we get a product state containing the information we want about the phase:\n",
    "\n",
    "$$QFT^{\\dagger} \\Big ( \\ket{0} + e^{2 \\pi i 0.\\phi_1\\phi_2} \\ket{1} \\Big ) \\otimes \\Big ( \\ket{0} + e^{2 \\pi i 0.\\phi_2} \\ket{1} \\Big ) \\otimes \\ket{\\psi} = \\ket{\\phi_2}\\otimes\\ket{\\phi_1}\\otimes\\ket{\\psi}$$"
   ]
  },
  {
   "cell_type": "markdown",
   "metadata": {},
   "source": [
    "### General Phase Estimation Algorithm\n",
    "\n",
    "We now present the general $n$-qubit case for the phase estimation algorithm. The circuit follows immediately from our work in the previous two sections:\n",
    "\n",
    "<img src=\"fig4.png\" align=\"middle\">\n",
    "\n",
    "The general calculation is also an immediate generalization of our previous work. Namely, the action of the circuit, ignoring the $\\ket{\\psi}$ register that never changes, is\n",
    "\n",
    "$$\\ket{0}^{\\otimes n} \\mapsto $$\n",
    "\n",
    "(after the Hadamards)\n",
    "$$ \\mapsto \\frac{1}{2^{n/2}} \\Big ( \\ket{0} + \\ket{1} \\Big ) \\otimes \\Big ( \\ket{0} + \\ket{1} \\Big ) \\otimes \\cdot\\cdot\\cdot \\otimes \\Big ( \\ket{0} + \\ket{1} \\Big )$$\n",
    "\n",
    "(after the $C(U)$'s)\n",
    "$$ \\mapsto \\frac{1}{2^{n/2}} \\Big ( \\ket{0} + e^{2 \\pi i 0.\\phi_1\\phi_2...\\phi_n}\\ket{1} \\Big ) \\otimes \\Big ( \\ket{0} + e^{2 \\pi i 0.\\phi_2\\phi_3...\\phi_n} \\ket{1} \\Big ) \\otimes \\cdot\\cdot\\cdot \\otimes \\Big ( \\ket{0} + e^{2 \\pi i 0.\\phi_n} \\ket{1} \\Big )$$\n",
    "\n",
    "(after the QFT$^{\\dagger}$)\n",
    "$$\\mapsto \\ket{\\phi_n} \\otimes \\ket{\\phi_{n-1}} \\otimes \\cdot\\cdot\\cdot \\otimes \\ket{\\phi_1}$$\n",
    "\n",
    "By measuring the final state, we obtain a description of the phase, and hence the eigenvalue, exactly."
   ]
  },
  {
   "cell_type": "markdown",
   "metadata": {},
   "source": [
    "## Qiskit Implementation 1\n",
    "\n",
    "Consider a 3-qubit quantum phase estimation of a one-qubit state $\\ket{\\psi}$.\n",
    "For this example, let us take the unitary matrix to be $Z$. Then, the input state $\\ket{1}$ is an eigenvector with eigenvalue  $−1 = e^{2 \\pi i \\times 0.5}$. Hence, $\\phi =$ 0.5 in decimals or 0.1 in binary. If we use 2 ancilla qubits we should expect the final state of the ancilla qubits to be $\\ket{10}$. \n",
    "\n",
    "Note that in this case, the controlled unitary gates are $U^{2^{n-1}} = Z^2 = I$ and $U^{2^0} = Z$\n",
    "\n",
    "Now we will implement the above example in Qiskit. Let's first prepare our environment."
   ]
  },
  {
   "cell_type": "code",
   "execution_count": 1,
   "metadata": {},
   "outputs": [],
   "source": [
    "#initialization\n",
    "import matplotlib.pyplot as plt\n",
    "%matplotlib inline\n",
    "import numpy as np\n",
    "import math\n",
    "\n",
    "# importing Qiskit\n",
    "from qiskit import IBMQ, BasicAer\n",
    "from qiskit.providers.ibmq import least_busy\n",
    "from qiskit import QuantumCircuit, ClassicalRegister, QuantumRegister, execute\n",
    "\n",
    "# import basic plot tools\n",
    "from qiskit.tools.visualization import plot_histogram"
   ]
  },
  {
   "cell_type": "markdown",
   "metadata": {},
   "source": [
    "Now, set up the quantum circuit. We will use three qubits -- qubits 0 and 1 as ancilla, and qubit 2 as the eigenstate of the unitary operator.\n",
    "We initialize $\\ket{\\psi} = 1$ by applying an $X$ gate."
   ]
  },
  {
   "cell_type": "code",
   "execution_count": 18,
   "metadata": {},
   "outputs": [],
   "source": [
    "# Construct a circuit in qiskit for the 3 qubit (q) and 2 classical (c) registers.\n",
    "''' Construct youre circuit here'''\n",
    "\n",
    "qpe = QuantumCircuit(q, c)\n",
    "\n",
    "# Initialize your qubit[2] in a state |1> by applyin an X gate.\n",
    "''' Construct youre circuit here'''\n",
    "\n",
    "# Apply Hadamard gates to the ancilla qubits\n",
    "''' Construct youre circuit here'''\n",
    "\n",
    "# Next we perform the controlled unitary operations:\n",
    "# controlled unitary from q[0] is the identity matrix\n",
    "# controlled unitary from q[1] is a controlled-Z gate\n",
    "qpe.cz(q[1], q[2]);"
   ]
  },
  {
   "cell_type": "markdown",
   "metadata": {},
   "source": [
    "We apply quantum inverse Fourier transformation to write the phase to the ancilla register. We will use exactly the code that we wrote to do a QFT and adapt it to be that of QFT$^{\\dagger}$."
   ]
  },
  {
   "cell_type": "code",
   "execution_count": 19,
   "metadata": {},
   "outputs": [],
   "source": [
    "def qft(circ, q, n):\n",
    "    \"\"\"n-qubit QFT on q in circ.\"\"\"\n",
    "    for j in range(n):\n",
    "        circ.h(q[j])\n",
    "        for k in range(j+1,n):\n",
    "            circ.cu1(math.pi/float(2**(k-j)), q[k], q[j])\n",
    "            \n",
    "def qft_dagger(circ, q, n):\n",
    "    \"\"\"n-qubit QFTdagger on q in circ.\"\"\"\n",
    "    for j in range(n):\n",
    "        k = (n-1) - j\n",
    "        for m in range(k):\n",
    "            circ.cu1(-math.pi/float(2**(k-m)), q[k], q[m])\n",
    "        circ.h(q[k])"
   ]
  },
  {
   "cell_type": "code",
   "execution_count": 20,
   "metadata": {},
   "outputs": [
    {
     "data": {
      "text/plain": [
       "<qiskit.circuit.instructionset.InstructionSet at 0x1a1f7c6780>"
      ]
     },
     "execution_count": 20,
     "metadata": {},
     "output_type": "execute_result"
    }
   ],
   "source": [
    "qft_dagger(qpe, q, 2)\n",
    "\n",
    "# measure the ancilla registers:\n",
    "''' Construct youre circuit here'''"
   ]
  },
  {
   "cell_type": "code",
   "execution_count": 23,
   "metadata": {},
   "outputs": [
    {
     "data": {
      "image/png": "[encoded data removed]",
      "text/plain": [
       "<Figure size 517.72x264.88 with 1 Axes>"
      ]
     },
     "execution_count": 23,
     "metadata": {},
     "output_type": "execute_result"
    }
   ],
   "source": [
    "qpe.draw(output=\"mpl\")"
   ]
  },
  {
   "cell_type": "code",
   "execution_count": 22,
   "metadata": {},
   "outputs": [
    {
     "data": {
      "image/png": "[encoded data removed]",
      "text/plain": [
       "<Figure size 504x360 with 1 Axes>"
      ]
     },
     "execution_count": 22,
     "metadata": {},
     "output_type": "execute_result"
    }
   ],
   "source": [
    "backend = BasicAer.get_backend('qasm_simulator')\n",
    "shots = 2048\n",
    "results = execute(qpe, backend=backend, shots=shots).result()\n",
    "answer = results.get_counts()\n",
    "plot_histogram(answer)"
   ]
  },
  {
   "cell_type": "markdown",
   "metadata": {},
   "source": [
    "We indeed see a peak at the binary representation of $0.5 = 1 \\cdot 2^{-1} + 0 \\cdot 2^{-2} = (10)$."
   ]
  },
  {
   "cell_type": "markdown",
   "metadata": {},
   "source": [
    "### Qiskit Implementation 2\n",
    "\n",
    "This time, we will see what happens to our estimate of the phase by using more ancilla qubits. Let's go from two ancilla to three, and from a one-qubit state to a two-qubit state. The unitary operator will be $U = C-Z$. Then, for state $\\ket{11}$, we get a phase of $\\phi$ = 0.5. We will implement a $C-U$ gate $(C-C-Z)$ from a $C-C-X$ gate (Toffoli) by using the relation $HXH = Z$.\n",
    "\n",
    "First, we set up the quantum circuit as before. We initialize $\\ket{\\psi} = \\ket{11}$ by applying an $X$ gate to both qubits."
   ]
  },
  {
   "cell_type": "code",
   "execution_count": 25,
   "metadata": {},
   "outputs": [
    {
     "data": {
      "text/plain": [
       "<qiskit.circuit.instructionset.InstructionSet at 0x1a1f87a860>"
      ]
     },
     "execution_count": 25,
     "metadata": {},
     "output_type": "execute_result"
    }
   ],
   "source": [
    "nancilla = 4\n",
    "q2 = QuantumRegister(nancilla+2, 'q')\n",
    "c2 = ClassicalRegister(nancilla, 'c')\n",
    "\n",
    "qpe2 = QuantumCircuit(q2, c2)\n",
    "qpe2.x(q2[nancilla])\n",
    "qpe2.x(q2[nancilla+1])\n",
    "\n",
    "# we apply Hadamard gates to the ancilla qubits.\n",
    "for i in range(nancilla):\n",
    "    qpe2.h(q2[i])\n",
    "    \n",
    "# Next we perform the controlled unitary operations:\n",
    "# controlled unitary from q[0] is the identity matrix\n",
    "# controlled unitary from q[1] is the identity matrix\n",
    "# controlled unitary from q[2] is a controlled-Z gate\n",
    "qpe2.h(q2[nancilla+1])\n",
    "qpe2.ccx(q2[nancilla-1], q2[nancilla], q2[nancilla+1])\n",
    "qpe2.h(q2[nancilla+1])"
   ]
  },
  {
   "cell_type": "code",
   "execution_count": 26,
   "metadata": {},
   "outputs": [],
   "source": [
    "# As before, we apply an inverse quantum Fourier transform to write the phase to the ancilla register. We then measure the ancilla register.\n",
    "qft_dagger(qpe2, q2, nancilla)\n",
    "\n",
    "for i in range(nancilla):\n",
    "    qpe2.measure(q2[i],c2[i])"
   ]
  },
  {
   "cell_type": "code",
   "execution_count": 27,
   "metadata": {},
   "outputs": [
    {
     "data": {
      "image/png": "[encoded data removed]",
      "text/plain": [
       "<Figure size 878.92x445.48 with 1 Axes>"
      ]
     },
     "execution_count": 27,
     "metadata": {},
     "output_type": "execute_result"
    }
   ],
   "source": [
    "qpe2.draw(output=\"mpl\")"
   ]
  },
  {
   "cell_type": "code",
   "execution_count": 31,
   "metadata": {},
   "outputs": [
    {
     "data": {
      "image/png": "[encoded data removed]",
      "text/plain": [
       "<Figure size 504x360 with 1 Axes>"
      ]
     },
     "execution_count": 31,
     "metadata": {},
     "output_type": "execute_result"
    }
   ],
   "source": [
    "shots = 2*4096\n",
    "results2 = execute(qpe2, backend=backend, shots=shots).result()\n",
    "answer2 = results2.get_counts()\n",
    "plot_histogram(answer2)"
   ]
  },
  {
   "cell_type": "markdown",
   "metadata": {},
   "source": [
    "We indeed see a peak at the binary representation of $0.5 = 1 \\cdot 2^{-1} + 0 \\cdot 2^{-2} + 0 \\cdot 2^{-3} + 0 \\cdot 2^{-4} = (1000)$."
   ]
  },
  {
   "cell_type": "markdown",
   "metadata": {},
   "source": [
    "### Closing Remarks\n",
    "\n",
    "Throughout, we have assumed implicitly that $\\phi$ can be written exactly with $n$ bits. The case where $\\phi$ is irrational (requires infinitely many bits) is a bit more subtle and requires more work. For a complete discussion, we refer the reader to Nielsen and Chuang Section Chapter 5."
   ]
  },
  {
   "cell_type": "code",
   "execution_count": null,
   "metadata": {},
   "outputs": [],
   "source": []
  }
 ],
 "metadata": {
  "kernelspec": {
   "display_name": "Python 3",
   "language": "python",
   "name": "python3"
  },
  "language_info": {
   "codemirror_mode": {
    "name": "ipython",
    "version": 3
   },
   "file_extension": ".py",
   "mimetype": "text/x-python",
   "name": "python",
   "nbconvert_exporter": "python",
   "pygments_lexer": "ipython3",
   "version": "3.6.5"
  }
 },
 "nbformat": 4,
 "nbformat_minor": 2
}
