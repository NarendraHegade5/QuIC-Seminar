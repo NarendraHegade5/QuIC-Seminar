{
 "cells": [
  {
   "cell_type": "markdown",
   "metadata": {},
   "source": [
    "# The Deustch-Jozsa Algorithm\n",
    "\n",
    "This notebook is  based on [this](https://www.ryanlarose.com/uploads/1/1/5/8/115879647/quic09-dj-algorithm.pdf) and [this](https://quantum-computing.ibm.com/support/guides/quantum-algorithms-with-qiskit?page=5cbaeb3b74a4010049e1a2a3#) set of notes, which was written by Ryan LaRose and IBM.\n",
    "$$\\newcommand{\\ket}[1]{\\left|{#1}\\right\\rangle}$$\n",
    "$$\\newcommand{\\bra}[1]{\\left\\langle{#1}\\right|}$$"
   ]
  },
  {
   "cell_type": "markdown",
   "metadata": {},
   "source": [
    "Here’s the problem we want to solve:\n",
    "\n",
    "---\n",
    "\n",
    "*Definition* (The Deustch-Jozsa Problem). Let $f : \\{0, 1\\} \\to \\{0, 1\\}$. Does $f(0) = f(1)$?\n",
    " \n",
    "---\n",
    "\n",
    "This is often stated in a different way: “Is $f$ constant or balanced? By constant, we mean $f(0) = f(1)$, and by balanced we mean $f(0) \\neq f(1)$.\n",
    "\n",
    "How many classical queries does it take to solve this problem? That’s a pretty easy exercise. It’s two. It must be two since the values of $f(0)$ and $f(1)$ are completely independent of each other. We have to ask what both values are, then compare to see if they’re the same or different.\n",
    "\n",
    "How many quantum phase queries does it take to solve this problem? If we want to expect a quantum speedup, we should probably say one! (“It’s got to be an integer, it’s less than two, can’t be zero...”) Interestingly, unlike the classical algorithm, we don’t learn explicitly what either of the values $f(0)$ or $f(1)$ are, we only learn if $f(0) = f(1)$ or not. (Equivalently, the parity.)\n",
    "\n",
    "**Solving the Problem**\n",
    "\n",
    "Now for the interesting part: the quantum algorithm that solves the DJ problem! Here is the DJ algorithm written in the quantum circuit model ($Q_f$ is a phase query):\n",
    "<img src=\"fig1.png\" align=\"middle\">\n",
    "\n",
    "How does this work? Let’s work through the math, which only takes a few lines. We’ll omit normalization coefficents throughout.\n",
    "\n",
    "$$\\ket{0} \\mapsto $$\n",
    "\n",
    "(first Hadamard)\n",
    "$$ \\mapsto \\ket{0} + \\ket{1}$$\n",
    "\n",
    "(phase query)\n",
    "$$ \\mapsto (-1)^{f(0)} \\ket{0} + (-1)^{f(1)} \\ket{1}$$\n",
    "\n",
    "(second Hadamard)\n",
    "$$\\mapsto (-1)^{f(0)} \\Big ( \\ket{0} + \\ket{1} \\Big ) + (-1)^{f(1)} \\Big ( \\ket{0} - \\ket{1} \\Big ) = \\ket{\\psi}$$\n",
    "\n",
    "How does this solve our problem? Consider the case where $f(0) = f(1)$. Then, the coefficient of the $\\ket{1}$ state goes to zero and the coefficient of the $\\ket{0}$ state becomes 1 (when properly normalized). If $f(0) \\neq f(1)$, the opposite happens, and the resulting state is $\\ket{1}$. Thus, if we measure 0, we know the state must have been $\\ket{0}$, meaning that $f(0) = f(1)$. If we measure 1, we know the state must have been $\\ket{1}$, meaning that $f(0) \\neq f(1)$. Thats it! One query. \n",
    "\n",
    "What’s the key thing happening in the DJ algorithm that allows us to solve the problem in only one query? It’s **interference**, both **constructive** and **destructive** interference. (Of course superposition is at play here too, since interference depends on superposition.) In both cases, the state encoding the answer gets constructive interference and the state with the wrong answer gets destructive interference. This is at the heart of all (good) quantum algorithms. The difficulty is how to choreograph such an interference pattern when *you don’t know what the answer is a priori*. That is, you don’t know what states should get constructive interference and which states should get destructive interference.\n",
    "\n",
    "---\n",
    "\n",
    "*Example*: Simulating the DJ Algorithm with light.\n",
    "\n",
    "<img src=\"fig3.png\" align=\"middle\">\n",
    "This figure shows how one could implement the DJ algorithm using light and standard optical equipment. A beam of light is sent through a beam splitter and into the “black box,” which could be realized by a person who knows the function values, just as the oracle does, and implements $\\pi$ phase shifters appropriately on each beam. Specifically, if $f(0) = 1$, shift the phase of the top beam, else do nothing. Similarly for the bottom beam with $f(1)$. We then reflect both beams using mirrors to combine them at the detector (note: Hadmard is self-inverse. What’s the inverse of a beam splitter? A mirror!). If we measure any light, we know there must be constructive interference between the two paths, hence the function is constant. If we measure no light, there must be destructive interference, telling us the function is balanced.\n",
    "\n",
    "Note that this is really a classical simulation of the DJ algorithm, since we’re not really using any quantum phenomena of the light here. It’s just a classical beam. If we wanted to make it quantum, we could restrict to a single photon from the photon source.\n",
    " \n",
    "---"
   ]
  },
  {
   "cell_type": "markdown",
   "metadata": {},
   "source": [
    "## Qiskit Implementation\n",
    "\n",
    "In real implementation of DJ algorithm two qubits is used, and one is used as an ancilla qubit (note: an ancilla qubit is an additional qubit that is used in the quantum computation). In this way, the query function $Q_f$ was realized. Let us see how it works.\n",
    "<img src=\"fig2.png\" align=\"middle\">\n",
    "\n",
    "1. The first qubit is initialized to $\\ket{0}$ and second is initialized to $\\ket{1}$\n",
    "$$\\ket{\\psi}_1 = \\ket{0}\\ket{1}_a$$\n",
    "\n",
    "2. Apply Hadamard on both qubits:\n",
    "$$\\ket{\\psi_2} = \\Big ( \\ket{0} + \\ket{1} \\Big ) \\Big ( \\ket{0}_a - \\ket{1}_a \\Big ) = \\ket{0}\\ket{0}_a - \\ket{0} \\ket{1}_a + \\ket{1} \\ket{0}_a - \\ket{1} \\ket{1}_a$$\n",
    "\n",
    "3. The query function $Q_f$ can be implemented in different ways. Let us consider the case where $f(0) = 0$ and $f(1) = 1$, thus $Q_f = CX_{12}$:\n",
    "$$\\ket{\\psi_3} = \\ket{0}\\ket{0}_a - \\ket{0} \\ket{1}_a + \\ket{1} \\ket{1}_a - \\ket{1} \\ket{0}_a = \\Big ( \\ket{0} - \\ket{1} \\Big ) \\Big ( \\ket{0}_a - \\ket{1}_a \\Big )$$\n",
    "\n",
    "4. Apply Hadamard on both qubits again:\n",
    "$$\\ket{\\psi_4} = \\ket{1} \\ket{1}_a$$\n",
    "In general we can write output state as $\\ket{\\psi_4} = \\pm \\ket{f(0) \\oplus f(1)} \\ket{1}_a$. Here we extracted *global* information about function $f(x)$ from our quntum cirquit with only one query.\n",
    "\n",
    "5. Measuring the first qubit will give 1; therefore, $f(0) \\neq f(1)$\n",
    "\n",
    "We now implement the Deutsch-Jozsa algorithm with Qiskit by first preparing the environment."
   ]
  },
  {
   "cell_type": "code",
   "execution_count": 1,
   "metadata": {},
   "outputs": [],
   "source": [
    "#initialization\n",
    "import matplotlib.pyplot as plt\n",
    "%matplotlib inline\n",
    "import numpy as np\n",
    "import random\n",
    "\n",
    "# importing Qiskit\n",
    "from qiskit import IBMQ, BasicAer\n",
    "#from qiskit.providers.ibmq import least_busy\n",
    "from qiskit import QuantumCircuit, ClassicalRegister, QuantumRegister, execute\n",
    "\n",
    "# import basic plot tools\n",
    "from qiskit.tools.visualization import plot_histogram"
   ]
  },
  {
   "cell_type": "markdown",
   "metadata": {},
   "source": [
    "Next, we define the quantum circuit."
   ]
  },
  {
   "cell_type": "code",
   "execution_count": 2,
   "metadata": {},
   "outputs": [
    {
     "name": "stdout",
     "output_type": "stream",
     "text": [
      "Secret function:\n",
      "f(x) = <1, 1>\n"
     ]
    },
    {
     "data": {
      "image/png": "[encoded data removed]",
      "text/plain": [
       "<Figure size 769.356x204.68 with 1 Axes>"
      ]
     },
     "execution_count": 2,
     "metadata": {},
     "output_type": "execute_result"
    }
   ],
   "source": [
    "# Creating registers\n",
    "qr = QuantumRegister(2)\n",
    "# classical registers for recording the measurement on qr\n",
    "cr = ClassicalRegister(2)\n",
    "\n",
    "deujosCircuit = QuantumCircuit(qr, cr)\n",
    "barriers = True\n",
    "\n",
    "# initialize the ancilla qubit in the |1> state\n",
    "deujosCircuit.x(qr[1])\n",
    "\n",
    "# Apply barrier \n",
    "if barriers:\n",
    "    deujosCircuit.barrier()\n",
    "\n",
    "# Apply Hadamard gates before querying the oracle\n",
    "deujosCircuit.h(qr[0])    \n",
    "deujosCircuit.h(qr[1])    \n",
    "\n",
    "# Apply barrier \n",
    "if barriers:\n",
    "    deujosCircuit.barrier()\n",
    "\n",
    "# Query the oracle\n",
    "def make_oracle(secret_function):\n",
    "    \"\"\" Gates implementing the secret function f(x).\"\"\"\n",
    "    if secret_function[0]:\n",
    "        [deujosCircuit.cx(qr[0], qr[1]), deujosCircuit.x(qr[0])]\n",
    "\n",
    "    if secret_function[1]:\n",
    "        deujosCircuit.cx(qr[0], qr[1])\n",
    "    \n",
    "secret_function = [random.randint(0,1) for _ in range(2)]\n",
    "print('Secret function:\\nf(x) = <{}>'.format(', '.join(str(e) for e in secret_function)))\n",
    "\n",
    "make_oracle(secret_function)\n",
    "\n",
    "# Apply barrier \n",
    "if barriers:\n",
    "    deujosCircuit.barrier()\n",
    "\n",
    "# Apply Hadamard gates after querying the oracle\n",
    "deujosCircuit.h(qr[0])    \n",
    "deujosCircuit.h(qr[1])    \n",
    "\n",
    "# Measure the input qubit\n",
    "deujosCircuit.measure(qr[0], cr[0])\n",
    "\n",
    "# we can draw the cirquit\n",
    "deujosCircuit.draw(output=\"mpl\")"
   ]
  },
  {
   "cell_type": "code",
   "execution_count": 3,
   "metadata": {},
   "outputs": [
    {
     "name": "stdout",
     "output_type": "stream",
     "text": [
      "Result of f(0)⊕f(1):\n",
      "0 (1024 shots)\n"
     ]
    },
    {
     "data": {
      "image/png": "[encoded data removed]",
      "text/plain": [
       "<Figure size 504x360 with 1 Axes>"
      ]
     },
     "execution_count": 3,
     "metadata": {},
     "output_type": "execute_result"
    }
   ],
   "source": [
    "# use local simulator\n",
    "backend = BasicAer.get_backend('qasm_simulator')\n",
    "shots = 1024\n",
    "results = execute(deujosCircuit, backend=backend, shots=shots).result()\n",
    "answer = results.get_counts()\n",
    "\n",
    "# categorize answers to c0 = 0 and c0 = 1\n",
    "answer_c0 = {}\n",
    "print('Result of f(0)⊕f(1):')\n",
    "for c1c0 in answer:\n",
    "    print('{} ({} shots)'.format(c1c0[1], answer[c1c0]))\n",
    "\n",
    "plot_histogram(answer)"
   ]
  },
  {
   "cell_type": "code",
   "execution_count": null,
   "metadata": {},
   "outputs": [],
   "source": []
  }
 ],
 "metadata": {
  "kernelspec": {
   "display_name": ".envqaompa",
   "language": "python",
   "name": ".envqaompa"
  },
  "language_info": {
   "codemirror_mode": {
    "name": "ipython",
    "version": 2
   },
   "file_extension": ".py",
   "mimetype": "text/x-python",
   "name": "python",
   "nbconvert_exporter": "python",
   "pygments_lexer": "ipython2",
   "version": "2.7.10"
  }
 },
 "nbformat": 4,
 "nbformat_minor": 2
}
